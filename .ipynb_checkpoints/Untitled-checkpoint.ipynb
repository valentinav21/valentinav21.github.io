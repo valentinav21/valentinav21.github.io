{
 "cells": [
  {
   "cell_type": "markdown",
   "metadata": {},
   "source": [
    "# The Role of the Data Scientist in the World of AI"
   ]
  },
  {
   "cell_type": "markdown",
   "metadata": {},
   "source": [
    "Have you been doom scrolling LinkedIn recently? Maybe it’s the 24 hour news cycle, but mass media is rife with sensational headlines predicting the rise of the machines and the inevitable takeover of human jobs. The word AI is ubiquitous, and yet most people cannot even begin to tell you what Generative AI means or how it works. So in this post, I will attempt to tackle this topic from the perspective of a Data Scientist, dispel some myths, and show that a future with AI is not the job graveyard that has been so soundly predicted.\n",
    "\n",
    "Let’s separate science from science fiction!"
   ]
  },
  {
   "cell_type": "markdown",
   "metadata": {},
   "source": [
    "## So what exactly is AI?"
   ]
  },
  {
   "cell_type": "markdown",
   "metadata": {},
   "source": [
    "AI, or Artificial Intelligence, is actually the child of data science. What we call AI is actually a group of sophisticated machine learning techniques that can analyze massive datasets, recognize patterns, and generate output based on what it learned from said dataset. Therefore, Data Scientists are an integral part of this new world order. Behind every flashy and new AI tool, there is a team of data scientists tweaking algorithms to improve results. From the other side of the fence, it looks like magic."
   ]
  },
  {
   "cell_type": "markdown",
   "metadata": {},
   "source": [
    "## Data Is Imperfect, Because Humans Are Not Perfect"
   ]
  },
  {
   "cell_type": "markdown",
   "metadata": {},
   "source": [
    "There’s a common expression in data science which is garage in, garbage out. Data science deals with real world data, and well, the real world can be messy. Data scientists sift through mountains of information, and often deal with and must interpret incomplete datasets. These nuances in datasets are things that machines can’t fully understand because they exist outside of the logic of the data it was trained on. \n",
    "\n",
    "Real world data rarely comes with a clear instruction manual. But ultimately, data was built by humans, for humans. And this is why Data Scientists, with their human emotions and ability to navigate the world, will always be needed in a world filled with AI. "
   ]
  },
  {
   "cell_type": "markdown",
   "metadata": {},
   "source": [
    "## The Guardians of Ethics"
   ]
  },
  {
   "cell_type": "markdown",
   "metadata": {},
   "source": [
    "AI is a powerful tool, and people tend to think of it like this impartial being. However, we have already established that datasets were built by humans. Our biases and ethics are all over those datasets, and these AI tools are trained on these datasets. What is the result? Unsurprisingly, biased AI outputs.\n",
    "\n",
    "Again, being a human comes in handy. Especially one that knows about data science. Even before ChatGPT exploded onto the scene, the field of data ethics has been expanding. Data Scientists know that behind the magic of Generative AI, there’s human bias. And luckily, the data science community has been building the tools to combat these biases. "
   ]
  },
  {
   "cell_type": "markdown",
   "metadata": {},
   "source": [
    "## The End is Not Nigh"
   ]
  },
  {
   "cell_type": "markdown",
   "metadata": {},
   "source": [
    "Like it or not, Generative AI is here to stay. But the long term effects of this technology in our world remains unclear. In my opinion, the endless doom and gloom surrounding AI is overblown, but the effects on the economy are very real. Mass layoffs were very common in 2022 and 2023. Can this be all attributed to AI? Not exactly. But in many ways, companies are waiting for the dust to settle before making moves. After all, if article after article promises that this and that AI tool will replace x and y workers, why not see if that's true?\n",
    "\n",
    "I can’t predict the future, but this much is obvious. If AI is here to stay, so are the Data Scientists behind the curtain.\n"
   ]
  }
 ],
 "metadata": {
  "kernelspec": {
   "display_name": "Python (learn-env)",
   "language": "python",
   "name": "learn-env"
  },
  "language_info": {
   "codemirror_mode": {
    "name": "ipython",
    "version": 3
   },
   "file_extension": ".py",
   "mimetype": "text/x-python",
   "name": "python",
   "nbconvert_exporter": "python",
   "pygments_lexer": "ipython3",
   "version": "3.8.5"
  },
  "toc": {
   "base_numbering": 1,
   "nav_menu": {},
   "number_sections": true,
   "sideBar": true,
   "skip_h1_title": false,
   "title_cell": "Table of Contents",
   "title_sidebar": "Contents",
   "toc_cell": false,
   "toc_position": {},
   "toc_section_display": true,
   "toc_window_display": false
  }
 },
 "nbformat": 4,
 "nbformat_minor": 4
}
